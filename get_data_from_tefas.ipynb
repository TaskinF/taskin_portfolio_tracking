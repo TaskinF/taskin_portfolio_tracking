{
 "cells": [
  {
   "cell_type": "code",
   "execution_count": 1,
   "id": "fee665f6-2a3c-412d-8b85-6981108f0804",
   "metadata": {},
   "outputs": [],
   "source": [
    "import pandas as pd\n",
    "import requests\n",
    "from bs4 import BeautifulSoup\n",
    "import time"
   ]
  },
  {
   "cell_type": "code",
   "execution_count": 2,
   "id": "143a5206-9da6-4761-a559-f536464cab30",
   "metadata": {},
   "outputs": [
    {
     "name": "stdout",
     "output_type": "stream",
     "text": [
      "Price or daily return not found for fund code KPC, retrying...\n",
      "CPU Fiyatı: 1.436981, CPU Günlük Getiri: %-2.3366\n",
      "KPC Fiyatı: 12.591706, KPC Günlük Getiri: %-0.8943\n"
     ]
    }
   ],
   "source": [
    "def get_fund_price(fund_code, retries=3, delay=5):\n",
    "    url = f'https://www.tefas.gov.tr/FonAnaliz.aspx?FonKod={fund_code}'\n",
    "    headers = {\n",
    "        'User-Agent': 'Mozilla/5.0 (Windows NT 10.0; Win64; x64) AppleWebKit/537.36 (KHTML, like Gecko) Chrome/91.0.4472.124 Safari/537.36'\n",
    "    }\n",
    "    for attempt in range(retries):\n",
    "        try:\n",
    "            response = requests.get(url, headers=headers)\n",
    "            response.raise_for_status()\n",
    "            soup = BeautifulSoup(response.content, 'html.parser')\n",
    "            \n",
    "            price = None\n",
    "            daily_return = None\n",
    "            \n",
    "            # Find the <li> tag that contains the \"Son Fiyat (TL)\" heading\n",
    "            li_tags = soup.find_all('li')\n",
    "            for li in li_tags:\n",
    "                if 'Son Fiyat (TL)' in li.text:\n",
    "                    # Find the <span> tag inside the <li> tag\n",
    "                    price_span = li.find('span')\n",
    "                    if price_span:\n",
    "                        price = price_span.text.strip().replace(',', '.')\n",
    "                if 'Günlük Getiri (%)' in li.text:\n",
    "                    # Find the <span> tag inside the <li> tag\n",
    "                    daily_span = li.find('span')\n",
    "                    if daily_span:\n",
    "                        daily_return = daily_span.text.strip().replace(',', '.')\n",
    "            \n",
    "            if price is not None and daily_return is not None:\n",
    "                return price, daily_return\n",
    "            else:\n",
    "                print(f\"Price or daily return not found for fund code {fund_code}, retrying...\")\n",
    "                time.sleep(delay)  # Wait before retrying\n",
    "\n",
    "        except requests.exceptions.RequestException as e:\n",
    "            print(f\"An error occurred on attempt {attempt + 1}: {e}\")\n",
    "            time.sleep(delay)  # Wait before retrying\n",
    "\n",
    "    return None, None\n",
    "\n",
    "def fetch_fund_price_until_success(fund_code):\n",
    "    while True:\n",
    "        price, daily_return = get_fund_price(fund_code)\n",
    "        if price is not None and daily_return is not None:\n",
    "            return price, daily_return\n",
    "        print(f\"Retrying to fetch the price and daily return for fund code {fund_code}...\")\n",
    "\n",
    "# Get the prices and daily returns of CPU and KPC funds\n",
    "cpu_price, cpu_daily_return = fetch_fund_price_until_success('CPU')\n",
    "kpc_price, kpc_daily_return = fetch_fund_price_until_success('KPC')\n",
    "\n",
    "print(f\"CPU Fiyatı: {cpu_price}, CPU Günlük Getiri: {cpu_daily_return}\")\n",
    "print(f\"KPC Fiyatı: {kpc_price}, KPC Günlük Getiri: {kpc_daily_return}\")\n"
   ]
  }
 ],
 "metadata": {
  "kernelspec": {
   "display_name": "Python 3 (ipykernel)",
   "language": "python",
   "name": "python3"
  },
  "language_info": {
   "codemirror_mode": {
    "name": "ipython",
    "version": 3
   },
   "file_extension": ".py",
   "mimetype": "text/x-python",
   "name": "python",
   "nbconvert_exporter": "python",
   "pygments_lexer": "ipython3",
   "version": "3.11.6"
  }
 },
 "nbformat": 4,
 "nbformat_minor": 5
}
